{
  "nbformat": 4,
  "nbformat_minor": 0,
  "metadata": {
    "colab": {
      "provenance": []
    },
    "kernelspec": {
      "name": "python3",
      "display_name": "Python 3"
    },
    "language_info": {
      "name": "python"
    }
  },
  "cells": [
    {
      "cell_type": "markdown",
      "source": [
        "1.  Write a code to read the contents of a fill in Python."
      ],
      "metadata": {
        "id": "GuttDnvT3O6L"
      }
    },
    {
      "cell_type": "code",
      "source": [
        "file = open(\"file.txt\", \"r\")"
      ],
      "metadata": {
        "id": "t0GT2j6546Ux"
      },
      "execution_count": null,
      "outputs": []
    },
    {
      "cell_type": "markdown",
      "source": [
        "2. Write a code to write to a file in Python."
      ],
      "metadata": {
        "id": "FoU1NuKE47rj"
      }
    },
    {
      "cell_type": "code",
      "source": [
        "file = open(\"file.txt\", \"w\")\n",
        "file.write(\"hello world\")\n",
        "file.close()"
      ],
      "metadata": {
        "id": "eE_aqxdO5UkU"
      },
      "execution_count": null,
      "outputs": []
    },
    {
      "cell_type": "markdown",
      "source": [
        "3. Write a code to append to a file in Python."
      ],
      "metadata": {
        "id": "Z1l6g5G25oTP"
      }
    },
    {
      "cell_type": "code",
      "source": [
        "file = open(\"file.txt\", \"a\")\n",
        "file.write(\"This is my appened line.\")\n",
        "file.close()"
      ],
      "metadata": {
        "id": "2PKoci566IZT"
      },
      "execution_count": null,
      "outputs": []
    },
    {
      "cell_type": "markdown",
      "source": [
        "4. Write a code to read a binary file in Python."
      ],
      "metadata": {
        "id": "bQ3lKMU_6MjS"
      }
    },
    {
      "cell_type": "code",
      "source": [
        "with open(\"test_bin.bin\", \"wb\") as f:\n",
        "    f.write(b\"\\x48\\x65\\x6c\\x6c\\x6f\\x2c\\x20\\x57\\x6f\\x72\\x6c\\x64\\x21\")\n",
        "with open(\"test_bin.bin\", \"rb\") as f:\n",
        "    print(f.read())"
      ],
      "metadata": {
        "colab": {
          "base_uri": "https://localhost:8080/"
        },
        "id": "FL7KJ9yO7cQV",
        "outputId": "34459649-ed40-4e33-968e-fdc6bb03b3b6"
      },
      "execution_count": null,
      "outputs": [
        {
          "output_type": "stream",
          "name": "stdout",
          "text": [
            "b'Hello, World!'\n"
          ]
        }
      ]
    },
    {
      "cell_type": "markdown",
      "source": [
        "5.What happens if we don't use 'with' keyword with 'open' in python."
      ],
      "metadata": {
        "id": "QsZAyQpL7r_N"
      }
    },
    {
      "cell_type": "markdown",
      "source": [
        "However, once Python exits from the “with” block, the file is automatically closed. Trying to read from f after we have exited from the “with” block will result in the same ValueError exception\n",
        "Thus, by using “with”, you avoid the need to explicitly close files."
      ],
      "metadata": {
        "id": "tHC1GN0_8erX"
      }
    },
    {
      "cell_type": "markdown",
      "source": [
        "6. Explain the concept of buffering in file handling and how it helps in improving read and write operations."
      ],
      "metadata": {
        "id": "5WVqy7e39bCh"
      }
    },
    {
      "cell_type": "markdown",
      "source": [
        "Buffering, a mechanism that temporarily stores data, can enhance file handling performance. Reading or writing data in chunks from or to a buffer, rather than directly from or to a file, reduces the frequency of costly disk operations"
      ],
      "metadata": {
        "id": "mTBBaE-1-aNp"
      }
    },
    {
      "cell_type": "markdown",
      "source": [
        "7. Descrive the steps involved in impleminting buffered file handling in a programming language of your\n",
        "choice."
      ],
      "metadata": {
        "id": "hWYB2qDi_cmk"
      }
    },
    {
      "cell_type": "code",
      "source": [
        "import io\n",
        "with open(\"test_buf.txt\", \"wb\") as f:\n",
        "    file = io.BufferedWriter(f)\n",
        "    file.write(b\"A computer is a machine that can be programmed to automatically carry out sequences of arithmetic or logical operations (computation). Modern digital electronic computers can perform generic sets of operations known as programs. These programs enable computers to perform a wide range of tasks. The term computer system may refer to a nominally complete computer that includes the hardware, operating system, software, and peripheral equipment needed and used for full operation; or to a group of computers that are linked and function together, such as a computer network or computer cluster.\")\n",
        "    file.write(b\"hello\")\n",
        "    file.write(b\"I am good\")\n",
        "    file.flush()\n",
        "import io\n",
        "with open(\"test_buf.txt\", \"rb\") as f:\n",
        "    file = io.BufferedReader(f)\n",
        "    data = file.read(100) #100 bytes\n",
        "    print(data)"
      ],
      "metadata": {
        "colab": {
          "base_uri": "https://localhost:8080/"
        },
        "id": "AFVXwpbDCV5c",
        "outputId": "e4ab64ef-74af-4f30-d865-f553d4a7f616"
      },
      "execution_count": null,
      "outputs": [
        {
          "output_type": "stream",
          "name": "stdout",
          "text": [
            "b'A computer is a machine that can be programmed to automatically carry out sequences of arithmetic or'\n"
          ]
        }
      ]
    },
    {
      "cell_type": "markdown",
      "source": [
        "8.Write a Python function to read a text file using buffered reading and return its conternts."
      ],
      "metadata": {
        "id": "u9qy3rRdDRfS"
      }
    },
    {
      "cell_type": "code",
      "source": [
        "import io\n",
        "with open(\"testbuf.txt\", \"wb\") as f:\n",
        "    file = io.BufferedWriter(f)\n",
        "    file.write(b\"i am shiv,i am studying data science.\")\n",
        "    file.flush()\n",
        "import io\n",
        "with open(\"testbuf.txt\", \"rb\") as f:\n",
        "    file = io.BufferedReader(f)\n",
        "    data = file.read(5)\n",
        "    print(data)"
      ],
      "metadata": {
        "colab": {
          "base_uri": "https://localhost:8080/"
        },
        "id": "7fLwfmG3DSTw",
        "outputId": "9663bc4a-06f9-470f-fe62-bb24241f5ce3"
      },
      "execution_count": null,
      "outputs": [
        {
          "output_type": "stream",
          "name": "stdout",
          "text": [
            "b'i am '\n"
          ]
        }
      ]
    },
    {
      "cell_type": "markdown",
      "source": [
        "9.Write are the advantages of using buffered reading over direct file reading in Python."
      ],
      "metadata": {
        "id": "wQ_Zqk_8ElhA"
      }
    },
    {
      "cell_type": "markdown",
      "source": [
        "it allows the program to read the data in chunks.\n",
        "It reads bytes and decodes them into characters. For improving reading efficiency, you should wrap an InputStreamReader within a BufferedReader. BufferedReader is an \"abstraction\" that reads text from a character-input stream. It \"buffers\" characters so as to provide efficient reading of characters and lines\n",
        "\n",
        "\n",
        "\n"
      ],
      "metadata": {
        "id": "qOQKRBtLFXE0"
      }
    },
    {
      "cell_type": "markdown",
      "source": [
        "10. Write a Python code snippet to append content to a file using buffered writing."
      ],
      "metadata": {
        "id": "sbBssEq7Fnvs"
      }
    },
    {
      "cell_type": "code",
      "source": [
        "import io\n",
        "with open(\"test_buf.txt\", \"wb\") as f:\n",
        "    file = io.BufferedWriter(f)\n",
        "    file.write(b\"A computer is a machine that can be programmed to automatically carry out sequences of arithmetic or logical operations (computation). Modern digital electronic computers can perform generic sets of operations known as programs. These programs enable computers to perform a wide range of tasks. The term computer system may refer to a nominally complete computer that includes the hardware, operating system, software, and peripheral equipment needed and used for full operation; or to a group of computers that are linked and function together, such as a computer network or computer cluster.\")\n",
        "    file.write(b\"hello\")\n",
        "    file.write(b\"I am good\")\n",
        "    file.flush()\n",
        "import io\n",
        "with open(\"test_buf.txt\", \"rb\") as f:\n",
        "    file = io.BufferedReader(f)\n",
        "    data = file.read(100) #100 bytes\n",
        "    print(data)"
      ],
      "metadata": {
        "colab": {
          "base_uri": "https://localhost:8080/"
        },
        "id": "Y6GI9hzzGdCT",
        "outputId": "4612445c-836c-45d1-cb79-0ba942d6d299"
      },
      "execution_count": null,
      "outputs": [
        {
          "output_type": "stream",
          "name": "stdout",
          "text": [
            "b'A computer is a machine that can be programmed to automatically carry out sequences of arithmetic or'\n"
          ]
        }
      ]
    },
    {
      "cell_type": "markdown",
      "source": [
        "11.Write a Python function that demonstrates the use of close() method on a file."
      ],
      "metadata": {
        "id": "3l-i1LZSHMGA"
      }
    },
    {
      "cell_type": "code",
      "source": [
        "file = open(\"file.txt\", \"a\")\n",
        "file.write(\"This is my appened line.\")\n",
        "file.close()\n",
        "file.write(\"This is my appened line.\")# this not will be excuted because file is closed\n"
      ],
      "metadata": {
        "colab": {
          "base_uri": "https://localhost:8080/",
          "height": 176
        },
        "id": "DORI8XpVHMxu",
        "outputId": "bdd5af27-f0b4-4f11-ec41-373d9965a810"
      },
      "execution_count": null,
      "outputs": [
        {
          "output_type": "error",
          "ename": "ValueError",
          "evalue": "I/O operation on closed file.",
          "traceback": [
            "\u001b[0;31m---------------------------------------------------------------------------\u001b[0m",
            "\u001b[0;31mValueError\u001b[0m                                Traceback (most recent call last)",
            "\u001b[0;32m<ipython-input-12-c35c0a495ff4>\u001b[0m in \u001b[0;36m<cell line: 4>\u001b[0;34m()\u001b[0m\n\u001b[1;32m      2\u001b[0m \u001b[0mfile\u001b[0m\u001b[0;34m.\u001b[0m\u001b[0mwrite\u001b[0m\u001b[0;34m(\u001b[0m\u001b[0;34m\"This is my appened line.\"\u001b[0m\u001b[0;34m)\u001b[0m\u001b[0;34m\u001b[0m\u001b[0;34m\u001b[0m\u001b[0m\n\u001b[1;32m      3\u001b[0m \u001b[0mfile\u001b[0m\u001b[0;34m.\u001b[0m\u001b[0mclose\u001b[0m\u001b[0;34m(\u001b[0m\u001b[0;34m)\u001b[0m\u001b[0;34m\u001b[0m\u001b[0;34m\u001b[0m\u001b[0m\n\u001b[0;32m----> 4\u001b[0;31m \u001b[0mfile\u001b[0m\u001b[0;34m.\u001b[0m\u001b[0mwrite\u001b[0m\u001b[0;34m(\u001b[0m\u001b[0;34m\"This is my appened line.\"\u001b[0m\u001b[0;34m)\u001b[0m\u001b[0;34m\u001b[0m\u001b[0;34m\u001b[0m\u001b[0m\n\u001b[0m",
            "\u001b[0;31mValueError\u001b[0m: I/O operation on closed file."
          ]
        }
      ]
    },
    {
      "cell_type": "markdown",
      "source": [
        "12.create a Python function to showcase the detach()' method on a file object."
      ],
      "metadata": {
        "id": "I-eaI7t-IbGh"
      }
    },
    {
      "cell_type": "code",
      "source": [
        "file = open(\"file.txt\", \"w\")\n",
        "file.write(\"This is my first line\\n\")\n",
        "file.write(\"This is my second line\\n\")\n",
        "file.write(\"This is my third line\\n\")\n",
        "file.write(\"This is my fourth line\\n\")\n",
        "file.close()\n",
        "file = open(\"file.txt\", \"r\")\n",
        "for i in file:\n",
        "    print(i)\n",
        "file.detach()\n"
      ],
      "metadata": {
        "colab": {
          "base_uri": "https://localhost:8080/"
        },
        "id": "hqPnqxNSJQAL",
        "outputId": "e8b16f77-36a2-44e3-cf30-74f59322f0dd"
      },
      "execution_count": null,
      "outputs": [
        {
          "output_type": "stream",
          "name": "stdout",
          "text": [
            "This is my first line\n",
            "\n",
            "This is my second line\n",
            "\n",
            "This is my third line\n",
            "\n",
            "This is my fourth line\n",
            "\n"
          ]
        },
        {
          "output_type": "execute_result",
          "data": {
            "text/plain": [
              "<_io.BufferedReader name='file.txt'>"
            ]
          },
          "metadata": {},
          "execution_count": 19
        }
      ]
    },
    {
      "cell_type": "markdown",
      "source": [
        "13. Write a Python function to demonstrate the use of the seek() method to change the file position"
      ],
      "metadata": {
        "id": "Ps14VHCyLAWu"
      }
    },
    {
      "cell_type": "code",
      "source": [
        "file = open(\"file.txt\", \"w\")\n",
        "file.write(\"This is my first line\\n\")\n",
        "file.write(\"This is my second line\\n\")\n",
        "file.write(\"This is my third line\\n\")\n",
        "file.write(\"This is my fourth line\\n\")\n",
        "file.close()\n",
        "file = open(\"file.txt\", \"r\")\n",
        "for i in file:\n",
        "    print(i)\n",
        "file.seek(0)"
      ],
      "metadata": {
        "colab": {
          "base_uri": "https://localhost:8080/"
        },
        "id": "inQSBBiILsYt",
        "outputId": "92b5e410-a05a-4a1d-eedc-3dbcc6037c19"
      },
      "execution_count": null,
      "outputs": [
        {
          "output_type": "stream",
          "name": "stdout",
          "text": [
            "This is my first line\n",
            "\n",
            "This is my second line\n",
            "\n",
            "This is my third line\n",
            "\n",
            "This is my fourth line\n",
            "\n"
          ]
        },
        {
          "output_type": "execute_result",
          "data": {
            "text/plain": [
              "0"
            ]
          },
          "metadata": {},
          "execution_count": 20
        }
      ]
    },
    {
      "cell_type": "markdown",
      "source": [
        "14.Create a Python function to return the file descriptor (integer number) of a file using the fileno() method."
      ],
      "metadata": {
        "id": "WhAmACYiMA30"
      }
    },
    {
      "cell_type": "code",
      "source": [
        "file = open(\"file.txt\", \"w\")\n",
        "file.write(\"This is my first line\\n\")\n",
        "file.write(\"This is my second line\\n\")\n",
        "file.write(\"This is my third line\\n\")\n",
        "file.write(\"This is my fourth line\\n\")\n",
        "file.close()\n",
        "file = open(\"file.txt\", \"r\")\n",
        "for i in file:\n",
        "    print(i)\n",
        "file.fileno()"
      ],
      "metadata": {
        "colab": {
          "base_uri": "https://localhost:8080/"
        },
        "id": "5utDYOh6NFzf",
        "outputId": "303c7265-e454-46ea-e46b-d2e1b2b27101"
      },
      "execution_count": null,
      "outputs": [
        {
          "output_type": "stream",
          "name": "stdout",
          "text": [
            "This is my first line\n",
            "\n",
            "This is my second line\n",
            "\n",
            "This is my third line\n",
            "\n",
            "This is my fourth line\n",
            "\n"
          ]
        },
        {
          "output_type": "execute_result",
          "data": {
            "text/plain": [
              "47"
            ]
          },
          "metadata": {},
          "execution_count": 22
        }
      ]
    },
    {
      "cell_type": "markdown",
      "source": [
        "15. Write a Python function to return the current position of the file's object using the tell() method."
      ],
      "metadata": {
        "id": "zfg1cur9NR49"
      }
    },
    {
      "cell_type": "code",
      "source": [
        "file = open(\"file.txt\", \"w\")\n",
        "file.write(\"This is my first line\\n\")\n",
        "file.write(\"This is my second line\\n\")\n",
        "file.write(\"This is my third line\\n\")\n",
        "file.write(\"This is my fourth line\\n\")\n",
        "file.close()\n",
        "file = open(\"file.txt\", \"r\")\n",
        "for i in file:\n",
        "    print(i)\n",
        "file.tell()"
      ],
      "metadata": {
        "colab": {
          "base_uri": "https://localhost:8080/"
        },
        "id": "X1dWFwfdN8nG",
        "outputId": "4b2ffec0-9206-4e21-e4fe-168d605b32ed"
      },
      "execution_count": null,
      "outputs": [
        {
          "output_type": "stream",
          "name": "stdout",
          "text": [
            "This is my first line\n",
            "\n",
            "This is my second line\n",
            "\n",
            "This is my third line\n",
            "\n",
            "This is my fourth line\n",
            "\n"
          ]
        },
        {
          "output_type": "execute_result",
          "data": {
            "text/plain": [
              "90"
            ]
          },
          "metadata": {},
          "execution_count": 23
        }
      ]
    },
    {
      "cell_type": "markdown",
      "source": [
        "16. Crete a Python program that logs a message to a file using the logging module."
      ],
      "metadata": {
        "id": "hnam2a4_0wTO"
      }
    },
    {
      "cell_type": "code",
      "source": [
        "import logging\n",
        "logging.basicConfig(filename = \"test.log\", level = logging.INFO)\n",
        "logging.info(\"This is my normal information about the software run\")\n",
        "logging.error(\"This is the error msg\")\n"
      ],
      "metadata": {
        "colab": {
          "base_uri": "https://localhost:8080/"
        },
        "id": "vht9KUHT2KNQ",
        "outputId": "61741d53-0442-4b4f-a8ba-9e5c9a134226"
      },
      "execution_count": null,
      "outputs": [
        {
          "output_type": "stream",
          "name": "stderr",
          "text": [
            "ERROR:root:This is the error msg\n"
          ]
        }
      ]
    },
    {
      "cell_type": "markdown",
      "source": [
        "17. Explain the importance of logging levels in Python's logging moduls."
      ],
      "metadata": {
        "id": "dgWrtqGJ2xVV"
      }
    },
    {
      "cell_type": "markdown",
      "source": [
        "Basic logging configuration is typically used for troubleshooting purposes and consists of setting the log level and output destination. The log level determines the amount and type of information written in the log file. The output destination specifies where the log file is located."
      ],
      "metadata": {
        "id": "x9N9xqjf3KFn"
      }
    },
    {
      "cell_type": "markdown",
      "source": [
        "18.Create a Python program that uses the debugger to find the value of a variable inside a loop."
      ],
      "metadata": {
        "id": "zEHN_guZ3L_N"
      }
    },
    {
      "cell_type": "code",
      "source": [
        "import logging\n",
        "logging.basicConfig(filename = \"test_new1.log\" , level = logging.DEBUG ,format = '%(asctime)s %(levelname)s %(message)s'  )\n",
        "logging.debug(\"debugging message\")\n",
        "logging.info(\"info message\")\n",
        "logging.shutdown()\n"
      ],
      "metadata": {
        "id": "F5kfQ66T36Yi"
      },
      "execution_count": null,
      "outputs": []
    },
    {
      "cell_type": "markdown",
      "source": [
        "19. Create a Python program that demonstrates setting breakpoints and inspecting variables using the\n",
        "debugger."
      ],
      "metadata": {
        "id": "Z6DP24T08olG"
      }
    },
    {
      "cell_type": "code",
      "source": [
        "l1_int = []\n",
        "l2_str = []\n",
        "\n",
        "for i in l:\n",
        "    logging.info(f\"processing each element {i}\")\n",
        "\n",
        "    if type(i) == list:\n",
        "        for j in i:\n",
        "            logging.info(f\"processing sublist element: {j}\")\n",
        "            if type(j) == int:\n",
        "                l1_int.append(j)\n",
        "    elif type(i) == int:\n",
        "        l1_int.append(i)\n",
        "    else:\n",
        "        l2_str.append(i)\n",
        "logging.info(f\"The final result is: {l1_int}, {l2_str}\")\n",
        "logging.shutdown()"
      ],
      "metadata": {
        "id": "I_3t9lVs9Ivz"
      },
      "execution_count": null,
      "outputs": []
    },
    {
      "cell_type": "markdown",
      "source": [
        "21. Write a try-except block to handle a ZeroDivisionError."
      ],
      "metadata": {
        "id": "V1BWXiS5-NpH"
      }
    },
    {
      "cell_type": "code",
      "source": [
        "try:\n",
        "    10/0\n",
        "except ZeroDivisionError as e:\n",
        "    print(\"Here I am handling the zero diviosion error\", e)"
      ],
      "metadata": {
        "colab": {
          "base_uri": "https://localhost:8080/"
        },
        "id": "QoeGWoqw-OVl",
        "outputId": "1a59b114-34eb-43a2-feec-a6ee92eec21f"
      },
      "execution_count": 1,
      "outputs": [
        {
          "output_type": "stream",
          "name": "stdout",
          "text": [
            "Here I am handling the zero diviosion error division by zero\n"
          ]
        }
      ]
    },
    {
      "cell_type": "markdown",
      "source": [
        "22. How does the else block work with try-except."
      ],
      "metadata": {
        "id": "ODUvUdBs-rGQ"
      }
    },
    {
      "cell_type": "markdown",
      "source": [
        "Use the else statement in conjunction with If you want to run a specific code only if an exception is not produced, use the try block to check if the try block was executed without an exception.\n",
        "Syntax:\n",
        "try:\n",
        "#Code\n",
        "else:\n",
        "#This code executes when exceptions not occurred"
      ],
      "metadata": {
        "id": "tyvsGGP7_jXN"
      }
    },
    {
      "cell_type": "markdown",
      "source": [
        "23. Implement a try-except-else block to open and read a file."
      ],
      "metadata": {
        "id": "pAdTmKcd_8kZ"
      }
    },
    {
      "cell_type": "code",
      "source": [
        "try:\n",
        "    f = open(\"example1.txt\", \"w\")\n",
        "    f.write(\"This is my first line\\n\")\n",
        "    f.write(\"This is my second line\\n\")\n",
        "    f.write(\"This is my third line\\n\")\n",
        "    f.write(\"This is my fourth line\\n\")\n",
        "    f.close()\n",
        "    f = open(\"example1.txt\", \"r\")\n",
        "    f.read()\n",
        "except FileNotFoundError as e:\n",
        "    print(\"My file not found,\", e)\n",
        "else:\n",
        "    print(\"File opened successfully\")\n",
        "    f.close()\n",
        ""
      ],
      "metadata": {
        "colab": {
          "base_uri": "https://localhost:8080/"
        },
        "id": "qZ8bXDcSBL8Z",
        "outputId": "173d9f7e-7e08-465c-d2ed-d50fdfa8dad0"
      },
      "execution_count": 4,
      "outputs": [
        {
          "output_type": "stream",
          "name": "stdout",
          "text": [
            "File opened successfully\n"
          ]
        }
      ]
    },
    {
      "cell_type": "markdown",
      "source": [
        "24.  What is the purpose of the finally block in exception handling."
      ],
      "metadata": {
        "id": "k7g1DliHBz6B"
      }
    },
    {
      "cell_type": "markdown",
      "source": [
        "The finally block executes whether exception rise or not and whether exception handled or not. A finally contains all the crucial statements regardless of the exception occurs or not. In this case, the program runs fine without throwing any exception and finally block execute after the try block."
      ],
      "metadata": {
        "id": "sSDjx20OCSX0"
      }
    },
    {
      "cell_type": "markdown",
      "source": [
        "25. Write a try-except-finally block to handle a ValueError."
      ],
      "metadata": {
        "id": "sQkzBcfTCaRc"
      }
    },
    {
      "cell_type": "code",
      "source": [
        "try:\n",
        "    int(\"pwskills\")\n",
        "except ValueError as e:\n",
        "    print(\"The string can not be converted to integer\", e)"
      ],
      "metadata": {
        "colab": {
          "base_uri": "https://localhost:8080/"
        },
        "id": "vUpw6VUTDAm1",
        "outputId": "113b643f-9c78-46e6-dd6c-2716dab63381"
      },
      "execution_count": 5,
      "outputs": [
        {
          "output_type": "stream",
          "name": "stdout",
          "text": [
            "The string can not be converted to integer invalid literal for int() with base 10: 'pwskills'\n"
          ]
        }
      ]
    },
    {
      "cell_type": "markdown",
      "source": [
        "26. How multiple expept blocks work in Python."
      ],
      "metadata": {
        "id": "d4H4TAUiDZc1"
      }
    },
    {
      "cell_type": "markdown",
      "source": [
        "When you use multiple except clauses, Python will execute the code in the first clause it encounters for which that exception is true, and then execute the code after the entire try/except construction."
      ],
      "metadata": {
        "id": "ebfCGOCzD5Ib"
      }
    },
    {
      "cell_type": "code",
      "source": [
        "try:\n",
        "    f = open(\"example1.txt\", \"r\")\n",
        "    f.read()\n",
        "except Exception as e:\n",
        "    print(\"first msg\", e)\n",
        "except FileNotFoundError as e:\n",
        "    print(\"My file not found\", e)"
      ],
      "metadata": {
        "id": "wsO8ezd0EK60"
      },
      "execution_count": 7,
      "outputs": []
    },
    {
      "cell_type": "markdown",
      "source": [
        "27. what is a custom exception in Python."
      ],
      "metadata": {
        "id": "2a-FAypZEnXr"
      }
    },
    {
      "cell_type": "markdown",
      "source": [
        "Custom exceptions are helpful in many situations. They allow you to define your own error conditions and handle them in a more specific and meaningful way. For example, let's say you are writing a program that reads data from a file. If the file is not found, Python will raise a FileNotFoundError"
      ],
      "metadata": {
        "id": "4j8M0Zc6FUXt"
      }
    },
    {
      "cell_type": "markdown",
      "source": [
        "28. Create a custom exception class with a message."
      ],
      "metadata": {
        "id": "m319S7tgF1vn"
      }
    },
    {
      "cell_type": "code",
      "source": [
        "try:\n",
        "    f = open(\"example17.txt\", \"r\")\n",
        "    f.read()\n",
        "except FileNotFoundError as e:\n",
        "    print(\"My file not found,\", e)"
      ],
      "metadata": {
        "colab": {
          "base_uri": "https://localhost:8080/"
        },
        "id": "vhomvdn2F28U",
        "outputId": "1d5a35c2-77a7-45b4-b489-a51b24dc780c"
      },
      "execution_count": 9,
      "outputs": [
        {
          "output_type": "stream",
          "name": "stdout",
          "text": [
            "My file not found, [Errno 2] No such file or directory: 'example17.txt'\n"
          ]
        }
      ]
    },
    {
      "cell_type": "markdown",
      "source": [
        "29. write a code to raise a custom exception in Python."
      ],
      "metadata": {
        "id": "wRPCGEg2I2on"
      }
    },
    {
      "cell_type": "code",
      "source": [
        "class ValidateSary(Exception):\n",
        "    def __init__(self,msg):\n",
        "        self.msg = msg\n",
        "def validate_salary(salary):\n",
        "    if salary <= 0:\n",
        "        raise ValidateSary(\"Salary can not be negative\")\n",
        "    elif salary > 20000000000:\n",
        "        raise ValidateSary(\"this high much salary is not possible\")\n",
        "    else:\n",
        "        print (\"this is valid salary\")\n",
        "\n",
        "try:\n",
        "    salary = int(input(\"enter your salary:\"))\n",
        "    validate_salary(salary)\n",
        "except ValidateSary as e:\n",
        "    print(e)"
      ],
      "metadata": {
        "colab": {
          "base_uri": "https://localhost:8080/"
        },
        "id": "39Cy3DDAJEos",
        "outputId": "afd59cad-bc21-4da9-ef60-dad989e303e7"
      },
      "execution_count": 11,
      "outputs": [
        {
          "output_type": "stream",
          "name": "stdout",
          "text": [
            "enter your salary:20000\n",
            "this is valid salary\n"
          ]
        }
      ]
    },
    {
      "cell_type": "markdown",
      "source": [
        "30. Write a function that raises a custom exception when a value is negative."
      ],
      "metadata": {
        "id": "S0XIlxnOIJxk"
      }
    },
    {
      "cell_type": "code",
      "source": [
        "class ValidateSary(Exception):\n",
        "    def __init__(self,msg):\n",
        "        self.msg = msg\n",
        "def validate_salary(salary):\n",
        "    if salary <= 0:\n",
        "        raise ValidateSary(\"Salary can not be negative\")\n",
        "    elif salary > 20000000000:\n",
        "        raise ValidateSary(\"this high much salary is not possible\")\n",
        "    else:\n",
        "        print (\"this is valid salary\")\n",
        "\n",
        "try:\n",
        "    salary = int(input(\"enter your salary:\"))\n",
        "    validate_salary(salary)\n",
        "except ValidateSary as e:\n",
        "    print(e)"
      ],
      "metadata": {
        "colab": {
          "base_uri": "https://localhost:8080/"
        },
        "id": "vGnim59FIKX5",
        "outputId": "9a2773bd-a116-47b8-cccc-c0b7df218da2"
      },
      "execution_count": 10,
      "outputs": [
        {
          "output_type": "stream",
          "name": "stdout",
          "text": [
            "enter your salary:-78\n",
            "Salary can not be negative\n"
          ]
        }
      ]
    },
    {
      "cell_type": "markdown",
      "source": [
        "31. what is the role of try, except, else, and finally in handling exceptions."
      ],
      "metadata": {
        "id": "h9rf7WHBG-A6"
      }
    },
    {
      "cell_type": "markdown",
      "source": [
        "The try block lets you test a block of code for errors. The except block lets you handle the error. The else block lets you execute code when there is no error. The finally block lets you execute code, regardless of the result of the try- and except blocks"
      ],
      "metadata": {
        "id": "hVyXE0B5HjZ2"
      }
    },
    {
      "cell_type": "markdown",
      "source": [
        "32. how can custom exceptions improve code readability and maintainability."
      ],
      "metadata": {
        "id": "fx4NpqZtHmIs"
      }
    },
    {
      "cell_type": "markdown",
      "source": [
        "When the use of a custom exception can make the code more readable and maintainable. A well-named user-defined exception, like EmployeeNotFoundException, immediately conveys specific information about what went wrong, both in the code and in the logs."
      ],
      "metadata": {
        "id": "0dSIqqGDJ24g"
      }
    },
    {
      "cell_type": "markdown",
      "source": [],
      "metadata": {
        "id": "FPh2_8egKDL7"
      }
    },
    {
      "cell_type": "markdown",
      "source": [
        "33. What is multithreading."
      ],
      "metadata": {
        "id": "BFVfeRtbKb6i"
      }
    },
    {
      "cell_type": "markdown",
      "source": [
        "A technique by which a single set of code can be used by several processors at different stages of execution."
      ],
      "metadata": {
        "id": "trsLNqDVKygP"
      }
    },
    {
      "cell_type": "markdown",
      "source": [
        "34.Create a thread in Python."
      ],
      "metadata": {
        "id": "P7tgLxMqK0hR"
      }
    },
    {
      "cell_type": "code",
      "source": [
        "import time\n",
        "start = time.perf_counter()\n",
        "\n",
        "def test_func():\n",
        "    print(\"do something\")\n",
        "    print(\"sleep for 1 sec\")\n",
        "    time.sleep(1)\n",
        "    print(\"done with sleeping\")\n",
        "\n",
        "test_func()\n",
        "end = time.perf_counter()\n",
        "\n",
        "\n",
        "print(f\"The program finished in {round(end-start, 2)} seconds.\")"
      ],
      "metadata": {
        "colab": {
          "base_uri": "https://localhost:8080/"
        },
        "id": "NY_wm907LXLF",
        "outputId": "c64ae9f0-a69c-4449-99a7-507e9b700c7b"
      },
      "execution_count": 12,
      "outputs": [
        {
          "output_type": "stream",
          "name": "stdout",
          "text": [
            "do something\n",
            "sleep for 1 sec\n",
            "done with sleeping\n",
            "The program finished in 1.0 seconds.\n"
          ]
        }
      ]
    },
    {
      "cell_type": "markdown",
      "source": [
        "35. What is the global Interpreter Lock (GIL) in Python."
      ],
      "metadata": {
        "id": "vSdKsGEjLskn"
      }
    },
    {
      "cell_type": "markdown",
      "source": [
        "Python Global Interpreter Lock or GIL is an important part of multithreading programming. It is a type of process lock used when working with multiple processes. It gives the control to only one thread. Generally, Python uses a single thread to run a single process."
      ],
      "metadata": {
        "id": "P6WDc50tMO1Q"
      }
    },
    {
      "cell_type": "markdown",
      "source": [
        "36. Implement a simple multithreading example in Pytyhon."
      ],
      "metadata": {
        "id": "vUJhPkeBMQ-Z"
      }
    },
    {
      "cell_type": "code",
      "source": [
        "import time\n",
        "start = time.perf_counter()\n",
        "\n",
        "def test_func():\n",
        "    print(\"do something\")\n",
        "    print(\"sleep for 1 sec\")\n",
        "    time.sleep(1)\n",
        "    print(\"done with sleeping\")\n",
        "\n",
        "test_func()\n",
        "test_func()\n",
        "test_func()\n",
        "test_func()\n",
        "end = time.perf_counter()"
      ],
      "metadata": {
        "colab": {
          "base_uri": "https://localhost:8080/"
        },
        "id": "shganPysMvca",
        "outputId": "b5746686-e931-4f60-bc5c-dd93046b28a7"
      },
      "execution_count": 13,
      "outputs": [
        {
          "output_type": "stream",
          "name": "stdout",
          "text": [
            "do something\n",
            "sleep for 1 sec\n",
            "done with sleeping\n",
            "do something\n",
            "sleep for 1 sec\n",
            "done with sleeping\n",
            "do something\n",
            "sleep for 1 sec\n",
            "done with sleeping\n",
            "do something\n",
            "sleep for 1 sec\n",
            "done with sleeping\n"
          ]
        }
      ]
    },
    {
      "cell_type": "markdown",
      "source": [
        "37.  What is the purpose of the 'join()' method in threading."
      ],
      "metadata": {
        "id": "66UvOG6AM34n"
      }
    },
    {
      "cell_type": "markdown",
      "source": [
        "The join method allows one thread to wait for the completion of another. If t is a Thread object whose thread is currently executing, t. join();"
      ],
      "metadata": {
        "id": "AZ7ERRqsNSO1"
      }
    },
    {
      "cell_type": "markdown",
      "source": [
        "38. Describe a scenario where multithreading would be beneficial in Python."
      ],
      "metadata": {
        "id": "ykX-A8XvNZX6"
      }
    },
    {
      "cell_type": "markdown",
      "source": [
        "If you are processing data in a database, you can use a thread to process the data cooperatively. In this scenario, the data is written to the database in parallel, and then the threads read the data back. Downloading the file and viewing it simultaneously."
      ],
      "metadata": {
        "id": "BoVKukheN9F9"
      }
    },
    {
      "cell_type": "code",
      "source": [
        "import time\n",
        "import concurrent.futures\n",
        "start = time.perf_counter()\n",
        "\n",
        "url_list = [\n",
        "    'https://raw.githubusercontent.com/dscape/spell/master/test/resources/big.txt',\n",
        "    'https://raw.githubusercontent.com/first20hours/google-10000-english/master/google-10000-english-no-swears.txt',\n",
        "    'https://raw.githubusercontent.com/itsfoss/text-files/master/sherlock.txt' ,\n",
        "    'https://raw.githubusercontent.com/itsfoss/text-files/master/sample_log_file.txt',\n",
        "]\n",
        "\n",
        "\n",
        "data_list = ['data1.txt', 'data2.txt', 'data3.txt', 'data4.txt']\n",
        "\n",
        "import urllib.request\n",
        "def file_download(url, filename):\n",
        "    urllib.request.urlretrieve(url, filename)\n",
        "\n",
        "with concurrent.futures.ThreadPoolExecutor() as executor:\n",
        "    executor.map(file_download, url_list, data_list)\n",
        "\n",
        "\n",
        "\n",
        "end = time.perf_counter()\n",
        "\n",
        "\n",
        "print(f\"The program finished in {round(end-start, 2)} seconds.\")"
      ],
      "metadata": {
        "id": "0QyjSJefOSVe"
      },
      "execution_count": null,
      "outputs": []
    },
    {
      "cell_type": "markdown",
      "source": [
        "39. What is multiprocessing in Python."
      ],
      "metadata": {
        "id": "aQHQjI3eOkRO"
      }
    },
    {
      "cell_type": "markdown",
      "source": [
        "Multiprocessing in Python is a built-in package that allows the system to run multiple processes simultaneously. It will enable the breaking of applications into smaller threads that can run independently."
      ],
      "metadata": {
        "id": "7aZW49iaOzg1"
      }
    },
    {
      "cell_type": "markdown",
      "source": [
        "40. How is multiprocessing different from multithreading in Python."
      ],
      "metadata": {
        "id": "crnZoRmjO0yF"
      }
    },
    {
      "cell_type": "markdown",
      "source": [
        "Multithreading refers to the ability of a processor to execute multiple threads concurrently, where each thread runs a process. Multiprocessing refers to the ability of a system to run multiple processors in parallel, where each processor can run one or more threads."
      ],
      "metadata": {
        "id": "2Tu0WdSWQQva"
      }
    },
    {
      "cell_type": "markdown",
      "source": [
        "41.  Create a process using the multiprocessing module in Python."
      ],
      "metadata": {
        "id": "aDChsISrQSwe"
      }
    },
    {
      "cell_type": "code",
      "source": [
        "import multiprocessing\n",
        "\n",
        "import time\n",
        "start = time.perf_counter()\n",
        "\n",
        "def test_func():\n",
        "    print(\"do something\")\n",
        "    print(\"sleep for 1 sec\")\n",
        "    time.sleep(1)\n",
        "    print(\"done with sleeping\")\n",
        "\n",
        "p1 = multiprocessing.Process(target = test_func)\n",
        "p2 = multiprocessing.Process(target = test_func)\n",
        "\n",
        "\n",
        "p1.start()\n",
        "p2.start()\n",
        "\n",
        "p1.join()\n",
        "p2.join()\n",
        "\n",
        "end = time.perf_counter()\n",
        "\n",
        "\n",
        "print(f\"The program finished in {round(end-start, 2)} seconds.\")"
      ],
      "metadata": {
        "colab": {
          "base_uri": "https://localhost:8080/"
        },
        "id": "5S8XrROZQzLy",
        "outputId": "d93c267d-f184-4b47-e1c9-ee50f431a89c"
      },
      "execution_count": 14,
      "outputs": [
        {
          "output_type": "stream",
          "name": "stdout",
          "text": [
            "do something\n",
            "sleep for 1 secdo something\n",
            "\n",
            "sleep for 1 sec\n",
            "done with sleeping\n",
            "done with sleeping\n",
            "The program finished in 1.06 seconds.\n"
          ]
        }
      ]
    },
    {
      "cell_type": "markdown",
      "source": [
        "42. Explain the concept of Pool in the multiprocessing module."
      ],
      "metadata": {
        "id": "3qvxj_r6RAJK"
      }
    },
    {
      "cell_type": "code",
      "source": [
        "import multiprocessing\n",
        "\n",
        "import time\n",
        "start = time.perf_counter()\n",
        "\n",
        "def test_func():\n",
        "    print(\"do something\")\n",
        "    print(\"sleep for 1 sec\")\n",
        "    time.sleep(1)\n",
        "    print(\"done with sleeping\")\n",
        "\n",
        "processes = []\n",
        "for i in range(10):\n",
        "    p=multiprocessing.Process(target = test_func)\n",
        "    p.start()\n",
        "    processes.append(p)\n",
        "for process in processes:\n",
        "    process.join()\n",
        "\n",
        "end = time.perf_counter()\n",
        "\n",
        "\n",
        "print(f\"The program finished in {round(end-start, 2)} seconds.\")"
      ],
      "metadata": {
        "colab": {
          "base_uri": "https://localhost:8080/"
        },
        "id": "rBKr0KJXRaY-",
        "outputId": "c0f35d18-e83b-43a5-a3e1-6ad3614629ea"
      },
      "execution_count": 15,
      "outputs": [
        {
          "output_type": "stream",
          "name": "stdout",
          "text": [
            "do somethingdo something\n",
            "\n",
            "sleep for 1 secdo something\n",
            "sleep for 1 secdo something\n",
            "\n",
            "sleep for 1 sec\n",
            "do somethingsleep for 1 sec\n",
            "\n",
            "\n",
            "do somethingsleep for 1 sec\n",
            "\n",
            "sleep for 1 secdo something\n",
            "\n",
            "sleep for 1 sec\n",
            "do something\n",
            "sleep for 1 secdo something\n",
            "do something\n",
            "\n",
            "sleep for 1 secsleep for 1 sec\n",
            "\n",
            "done with sleeping\n",
            "done with sleeping\n",
            "done with sleepingdone with sleeping\n",
            "\n",
            "done with sleepingdone with sleeping\n",
            "\n",
            "done with sleeping\n",
            "done with sleeping\n",
            "done with sleepingdone with sleeping\n",
            "\n",
            "The program finished in 1.24 seconds.\n"
          ]
        }
      ]
    },
    {
      "cell_type": "markdown",
      "source": [
        "43. Explain inter-process communication in multiprocessing."
      ],
      "metadata": {
        "id": "V_KlbGTaRhJA"
      }
    },
    {
      "cell_type": "code",
      "source": [
        "import multiprocessing\n",
        "\n",
        "def enroll_students(student_queue):\n",
        "    for student in [\"Ajay\", \"Bijay\", \"Sanjay\", \"Rizwan\"]:\n",
        "        student_queue.put(f\"enroll {student}\")\n",
        "\n",
        "def register_students(student_queue):\n",
        "    while True:\n",
        "        enrollment_req = student_queue.get()\n",
        "        if enrollment_req is None:\n",
        "            break\n",
        "        print(f\"Registrar: {enrollment_req}\")\n",
        "\n",
        "if True:\n",
        "    student_queue = multiprocessing.Queue()\n",
        "    enrollment_process = multiprocessing.Process(target = enroll_students, args = (student_queue,))\n",
        "    reg_process = multiprocessing.Process(target = register_students, args = (student_queue,))\n",
        "\n",
        "    enrollment_process.start()\n",
        "    reg_process.start()\n",
        "\n",
        "\n",
        "    enrollment_process.join()\n",
        "    reg_process.join()"
      ],
      "metadata": {
        "colab": {
          "base_uri": "https://localhost:8080/"
        },
        "id": "iDrPIR_NR_mb",
        "outputId": "4ad43120-4fbd-4c6f-cf71-1f3d6dadb29a"
      },
      "execution_count": null,
      "outputs": [
        {
          "output_type": "stream",
          "name": "stdout",
          "text": [
            "Registrar: enroll Ajay\n",
            "Registrar: enroll Bijay\n",
            "Registrar: enroll Sanjay\n",
            "Registrar: enroll Rizwan\n"
          ]
        }
      ]
    }
  ]
}